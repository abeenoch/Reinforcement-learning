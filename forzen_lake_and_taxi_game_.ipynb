{
  "nbformat": 4,
  "nbformat_minor": 0,
  "metadata": {
    "colab": {
      "name": "forzen lake and taxi game .ipynb",
      "provenance": [],
      "collapsed_sections": [],
      "authorship_tag": "ABX9TyN3hls8bZenaz1JauvNWLmU",
      "include_colab_link": true
    },
    "kernelspec": {
      "name": "python3",
      "display_name": "Python 3"
    },
    "language_info": {
      "name": "python"
    }
  },
  "cells": [
    {
      "cell_type": "markdown",
      "metadata": {
        "id": "view-in-github",
        "colab_type": "text"
      },
      "source": [
        "<a href=\"https://colab.research.google.com/github/abeenoch/abe/blob/hamoyemain/forzen_lake_and_taxi_game_.ipynb\" target=\"_parent\"><img src=\"https://colab.research.google.com/assets/colab-badge.svg\" alt=\"Open In Colab\"/></a>"
      ]
    },
    {
      "cell_type": "code",
      "execution_count": 1,
      "metadata": {
        "id": "3UzqD8f0qNT0"
      },
      "outputs": [],
      "source": [
        "%%capture\n",
        "!pip install pyglet==1.5.1\n",
        "!apt install python-opengl\n",
        "!apt install ffmpeg\n",
        "!apt install xvfb\n",
        "!pip3 install pyvirtualdisplay\n",
        "\n",
        "#Virtual display\n",
        "from pyvirtualdisplay import Display\n",
        "\n",
        "virtual_display = Display(visible=0, size=(1400, 900))\n",
        "virtual_display.start()\n",
        "\n",
        "\n",
        "\n",
        "\n",
        "\n",
        "\n",
        "\n",
        "\n",
        "\n",
        "!pip install gym==0.24 #contains the frozen lake-v1 and taxi-v3 environments\n",
        "!pip install pygame #used for the frozen lake-v1 and taxi-v3 ui\n",
        "!pip install numpy\n",
        "\n",
        "!pip install huggingface_hub\n",
        "!pip install pickle5\n",
        "!pip install pyyam==6.0 #avoid key error metadata\n",
        "!pip install imageio imageio_ffmpeg #to generate a replay video\n",
        "import numpy as np\n",
        "import gym\n",
        "import random\n",
        "import imageio\n",
        "import os\n",
        "\n",
        "\n",
        "import pickle5 as pickle\n",
        "\n"
      ]
    },
    {
      "cell_type": "code",
      "source": [
        "#creating the environment using 4x4 map and non slippery decision\n",
        "env = gym.make(\"FrozenLake-v1\", map_name=\"4x4\", is_slippery=False)"
      ],
      "metadata": {
        "id": "QRCL2kVKub2H"
      },
      "execution_count": 2,
      "outputs": []
    },
    {
      "cell_type": "code",
      "source": [
        "desc=[\"SFFF\", \"FHFH\", \"FFFH\", \"HFFG\"]\n",
        "gym.make('FrozenLake-v1', desc=desc, is_slippery=True)"
      ],
      "metadata": {
        "colab": {
          "base_uri": "https://localhost:8080/"
        },
        "id": "t1flRnV7vM9i",
        "outputId": "50827aab-48de-4471-a05a-0b3668fc6263"
      },
      "execution_count": 3,
      "outputs": [
        {
          "output_type": "execute_result",
          "data": {
            "text/plain": [
              "<TimeLimit<OrderEnforcing<FrozenLakeEnv<FrozenLake-v1>>>>"
            ]
          },
          "metadata": {},
          "execution_count": 3
        }
      ]
    },
    {
      "cell_type": "code",
      "source": [
        "#creating our environment with gym.make(\"name of the environment\")\n",
        "env.reset()\n",
        "print(\"_____OBSERVATION SPACE_____ \\n\")\n",
        "print(\"Observation Space\", env.observation_space)\n",
        "print(\"Sample observation\", env.observation_space.sample())  #get a random observation"
      ],
      "metadata": {
        "colab": {
          "base_uri": "https://localhost:8080/"
        },
        "id": "ZQkEh9fezcaq",
        "outputId": "056d86f2-630b-413d-8bd7-87500a36cd4d"
      },
      "execution_count": 4,
      "outputs": [
        {
          "output_type": "stream",
          "name": "stdout",
          "text": [
            "_____OBSERVATION SPACE_____ \n",
            "\n",
            "Observation Space Discrete(16)\n",
            "Sample observation 6\n"
          ]
        }
      ]
    },
    {
      "cell_type": "code",
      "source": [
        "print(\"\\n _____ACTION SPACE_____ \\n\")\n",
        "print(\"Action Space Shape\", env.action_space.n)\n",
        "print(\"Action Space Shape\", env.action_space.sample()) #take a random action"
      ],
      "metadata": {
        "colab": {
          "base_uri": "https://localhost:8080/"
        },
        "id": "clEsu_uGzcXU",
        "outputId": "346990e5-fee9-4e1a-d61b-25ce3153f4a1"
      },
      "execution_count": 5,
      "outputs": [
        {
          "output_type": "stream",
          "name": "stdout",
          "text": [
            "\n",
            " _____ACTION SPACE_____ \n",
            "\n",
            "Action Space Shape 4\n",
            "Action Space Shape 2\n"
          ]
        }
      ]
    },
    {
      "cell_type": "code",
      "source": [
        "state_space = env.observation_space.n\n",
        "print(\"There are\", state_space, \"possible states\")\n",
        "\n",
        "action_space = env.action_space.n\n",
        "print(\"There are\", action_space, \"possible actions\")\n"
      ],
      "metadata": {
        "colab": {
          "base_uri": "https://localhost:8080/"
        },
        "id": "L4AATnqOzcTi",
        "outputId": "ce8311d3-6d0f-4a37-bf3b-5b93c9cb8049"
      },
      "execution_count": 6,
      "outputs": [
        {
          "output_type": "stream",
          "name": "stdout",
          "text": [
            "There are 16 possible states\n",
            "There are 4 possible actions\n"
          ]
        }
      ]
    },
    {
      "cell_type": "code",
      "source": [
        "#create qtable of size (state_space and action_space) and initialized each values at 0 using np.zeros\n",
        "def initialize_q_table(state_space, action_space):\n",
        "  Qtable = np.zeros((state_space, action_space))\n",
        "  return Qtable\n"
      ],
      "metadata": {
        "id": "KOT8ZH9MzcF9"
      },
      "execution_count": 7,
      "outputs": []
    },
    {
      "cell_type": "code",
      "source": [
        "Qtable_frozenlake = initialize_q_table(state_space, action_space)"
      ],
      "metadata": {
        "id": "SI4URsmfzcB-"
      },
      "execution_count": 8,
      "outputs": []
    },
    {
      "cell_type": "code",
      "source": [
        "def epsilon_greedy_policy(Qtable, state, epsilon):\n",
        "  #randomly generate a nos btw 0 and 1\n",
        "  random_int = random.uniform(0,1)\n",
        "  #if random_int > than epsilon -->exploitation\n",
        "  if random_int > epsilon:\n",
        "    #take the action with the highest value given a state\n",
        "    #use np.argmax \n",
        "    action = np.argmax(Qtable[state])\n",
        "  #else --> exploration\n",
        "  else:\n",
        "      action = env.action_space.sample()\n",
        "\n",
        "  return action"
      ],
      "metadata": {
        "id": "FYpEJiRkzb-3"
      },
      "execution_count": 9,
      "outputs": []
    },
    {
      "cell_type": "code",
      "source": [
        "def greedy_policy(Qtable, state):\n",
        "  #Exploitation:take the action with the highest state,action value\n",
        "  action = np.argmax(Qtable[state])\n",
        "\n",
        "  return action\n",
        "  "
      ],
      "metadata": {
        "id": "-9BX4qQDzb6v"
      },
      "execution_count": 10,
      "outputs": []
    },
    {
      "cell_type": "code",
      "source": [
        "#Training parameters\n",
        "n_training_episodes = 10000 #total training episodes \n",
        "learning_rate = 0.7 #learning rate \n",
        "#Evaluation parameters\n",
        "n_eval_episodes = 100\n",
        "#Evaluation parameters \n",
        "env_id = \"Frozenlake-v1\"  #environment name\n",
        "max_steps = 99   #max steps per episode \n",
        "gamma = 0.95   #discounting rate\n",
        "eval_seed = []  #evaluation seed of the environment\n",
        "\n",
        "#exploration param\n",
        "epsilon = 1.0   #exploration rate\n",
        "max_epsilon = 1.0 #exploration at start\n",
        "min_epsilon = 0.05    #minimum exploration probability\n",
        "decay_rate = 0.0005    #exponential decay rate for exploration prob\n",
        "\n"
      ],
      "metadata": {
        "id": "QVi4CbWQzbyL"
      },
      "execution_count": 18,
      "outputs": []
    },
    {
      "cell_type": "code",
      "source": [
        "def train(n_training_episodes, min_epsilon, max_epsilon, decay_rate, env, max_steps, Qtable):\n",
        "  for episode in range(n_training_episodes):\n",
        "    # Reduce epsilon (because we need less and less exploration)\n",
        "    epsilon = min_epsilon + (max_epsilon - min_epsilon)*np.exp(-decay_rate*episode)\n",
        "    # Reset the environment\n",
        "    state = env.reset()\n",
        "    step = 0\n",
        "    done = False\n",
        "\n",
        "    # repeat\n",
        "    for step in range(max_steps):\n",
        "      # Choose the action At using epsilon greedy policy\n",
        "      action = epsilon_greedy_policy(Qtable, state, epsilon)\n",
        "\n",
        "      # Take action At and observe Rt+1 and St+1\n",
        "      # Take the action (a) and observe the outcome state(s') and reward (r)\n",
        "      new_state, reward, done, info = env.step(action)\n",
        "\n",
        "      # Update Q(s,a):= Q(s,a) + lr [R(s,a) + gamma * max Q(s',a') - Q(s,a)]\n",
        "      Qtable[state][action] = Qtable[state][action] + learning_rate * (reward + gamma * np.max(Qtable[new_state]) - Qtable[state][action])   \n",
        "\n",
        "      # If done, finish the episode\n",
        "      if done:\n",
        "        break\n",
        "      \n",
        "      # Our state is the new state\n",
        "      state = new_state\n",
        "  return Qtable"
      ],
      "metadata": {
        "id": "1Bl2kbY4zbiN"
      },
      "execution_count": 19,
      "outputs": []
    },
    {
      "cell_type": "code",
      "source": [
        "Qtable_frozenlake = train(n_training_episodes, min_epsilon, max_epsilon, decay_rate, env, max_steps, Qtable_frozenlake)"
      ],
      "metadata": {
        "id": "m5ntguyyzbRB"
      },
      "execution_count": 20,
      "outputs": []
    },
    {
      "cell_type": "code",
      "source": [
        "Qtable_frozenlake"
      ],
      "metadata": {
        "id": "YG-qUw1LzaPw",
        "colab": {
          "base_uri": "https://localhost:8080/"
        },
        "outputId": "88d38547-de02-4497-d91c-6570a871435d"
      },
      "execution_count": 21,
      "outputs": [
        {
          "output_type": "execute_result",
          "data": {
            "text/plain": [
              "array([[0.73509189, 0.77378094, 0.77378094, 0.73509189],\n",
              "       [0.73509189, 0.        , 0.81450625, 0.77378094],\n",
              "       [0.77378094, 0.857375  , 0.77378094, 0.81450625],\n",
              "       [0.81450625, 0.        , 0.77378094, 0.77378094],\n",
              "       [0.77378094, 0.81450625, 0.        , 0.73509189],\n",
              "       [0.        , 0.        , 0.        , 0.        ],\n",
              "       [0.        , 0.9025    , 0.        , 0.81450625],\n",
              "       [0.        , 0.        , 0.        , 0.        ],\n",
              "       [0.81450625, 0.        , 0.857375  , 0.77378094],\n",
              "       [0.81450625, 0.9025    , 0.9025    , 0.        ],\n",
              "       [0.857375  , 0.95      , 0.        , 0.857375  ],\n",
              "       [0.        , 0.        , 0.        , 0.        ],\n",
              "       [0.        , 0.        , 0.        , 0.        ],\n",
              "       [0.        , 0.9025    , 0.95      , 0.857375  ],\n",
              "       [0.9025    , 0.95      , 1.        , 0.9025    ],\n",
              "       [0.        , 0.        , 0.        , 0.        ]])"
            ]
          },
          "metadata": {},
          "execution_count": 21
        }
      ]
    },
    {
      "cell_type": "code",
      "source": [
        "def evaluate_agent(env, max_steps, n_eval_episodes, Q, seed):\n",
        "  \"\"\"\n",
        "  Evaluate the agent for ``n_eval_episodes`` episodes and returns average reward and std of reward.\n",
        "  :param env: The evaluation environment\n",
        "  :param n_eval_episodes: Number of episode to evaluate the agent\n",
        "  :param Q: The Q-table\n",
        "  :param seed: The evaluation seed array (for taxi-v3)\n",
        "  \"\"\"\n",
        "  episode_rewards = []\n",
        "  for episode in range(n_eval_episodes):\n",
        "    if seed:\n",
        "      state = env.reset(seed=seed[episode])\n",
        "    else:\n",
        "      state = env.reset()\n",
        "    step = 0\n",
        "    done = False\n",
        "    total_rewards_ep = 0\n",
        "    \n",
        "    for step in range(max_steps):\n",
        "      # Take the action (index) that have the maximum expected future reward given that state\n",
        "      action = np.argmax(Q[state][:])\n",
        "      new_state, reward, done, info = env.step(action)\n",
        "      total_rewards_ep += reward\n",
        "        \n",
        "      if done:\n",
        "        break\n",
        "      state = new_state\n",
        "    episode_rewards.append(total_rewards_ep)\n",
        "  mean_reward = np.mean(episode_rewards)\n",
        "  std_reward = np.std(episode_rewards)\n",
        "\n",
        "  return mean_reward, std_reward"
      ],
      "metadata": {
        "id": "qci4Nt11MFxX"
      },
      "execution_count": 22,
      "outputs": []
    },
    {
      "cell_type": "code",
      "source": [
        "# Evaluate our Agent\n",
        "mean_reward, std_reward = evaluate_agent(env, max_steps, n_eval_episodes, Qtable_frozenlake, eval_seed)\n",
        "print(f\"Mean_reward={mean_reward:.2f} +/- {std_reward:.2f}\")"
      ],
      "metadata": {
        "colab": {
          "base_uri": "https://localhost:8080/"
        },
        "id": "10koa8tHMFko",
        "outputId": "90affaa5-cc8e-4a54-f397-ed47a12f5939"
      },
      "execution_count": 23,
      "outputs": [
        {
          "output_type": "stream",
          "name": "stdout",
          "text": [
            "Mean_reward=1.00 +/- 0.00\n"
          ]
        }
      ]
    },
    {
      "cell_type": "code",
      "source": [
        "%%capture\n",
        "from huggingface_hub import HfApi, HfFolder, Repository\n",
        "from huggingface_hub.repocard import metadata_eval_result, metadata_save\n",
        "\n",
        "from pathlib import Path\n",
        "import datetime\n",
        "import json"
      ],
      "metadata": {
        "id": "eH7mLrAYMFPq"
      },
      "execution_count": 24,
      "outputs": []
    },
    {
      "cell_type": "code",
      "source": [
        "def record_video(env, Qtable, out_directory, fps=1):\n",
        "  images = []  \n",
        "  done = False\n",
        "  state = env.reset(seed=random.randint(0,500))\n",
        "  img = env.render(mode='rgb_array')\n",
        "  images.append(img)\n",
        "  while not done:\n",
        "    # Take the action (index) that have the maximum expected future reward given that state\n",
        "    action = np.argmax(Qtable[state][:])\n",
        "    state, reward, done, info = env.step(action) # We directly put next_state = state for recording logic\n",
        "    img = env.render(mode='rgb_array')\n",
        "    images.append(img)\n",
        "  imageio.mimsave(out_directory, [np.array(img) for i, img in enumerate(images)], fps=fps)"
      ],
      "metadata": {
        "id": "l3auvVu_MhDb"
      },
      "execution_count": 25,
      "outputs": []
    },
    {
      "cell_type": "code",
      "source": [
        "def push_to_hub(repo_id, \n",
        "                model,\n",
        "                env,\n",
        "                video_fps=1,\n",
        "                local_repo_path=\"hub\",\n",
        "                commit_message=\"Push Q-Learning agent to Hub\",\n",
        "                token= None\n",
        "                ):\n",
        "  _, repo_name = repo_id.split(\"/\")\n",
        "\n",
        "  eval_env = env\n",
        "  \n",
        "  # Step 1: Clone or create the repo\n",
        "  # Create the repo (or clone its content if it's nonempty)\n",
        "  api = HfApi()\n",
        "  \n",
        "  repo_url = api.create_repo(\n",
        "        repo_id=repo_id,\n",
        "        token=token,\n",
        "        private=False,\n",
        "        exist_ok=True,)\n",
        "  \n",
        "  # Git pull\n",
        "  repo_local_path = Path(local_repo_path) / repo_name\n",
        "  repo = Repository(repo_local_path, clone_from=repo_url, use_auth_token=True)\n",
        "  repo.git_pull()\n",
        "  \n",
        "  repo.lfs_track([\"*.mp4\"])\n",
        "\n",
        "  # Step 1: Save the model\n",
        "  if env.spec.kwargs.get(\"map_name\"):\n",
        "    model[\"map_name\"] = env.spec.kwargs.get(\"map_name\")\n",
        "    if env.spec.kwargs.get(\"is_slippery\", \"\") == False:\n",
        "      model[\"slippery\"] = False\n",
        "\n",
        "  print(model)\n",
        "  \n",
        "    \n",
        "  # Pickle the model\n",
        "  with open(Path(repo_local_path)/'q-learning.pkl', 'wb') as f:\n",
        "    pickle.dump(model, f)\n",
        "  \n",
        "  # Step 2: Evaluate the model and build JSON\n",
        "  mean_reward, std_reward = evaluate_agent(eval_env, model[\"max_steps\"], model[\"n_eval_episodes\"], model[\"qtable\"], model[\"eval_seed\"])\n",
        "\n",
        "  # First get datetime\n",
        "  eval_datetime = datetime.datetime.now()\n",
        "  eval_form_datetime = eval_datetime.isoformat()\n",
        "\n",
        "  evaluate_data = {\n",
        "        \"env_id\": model[\"env_id\"], \n",
        "        \"mean_reward\": mean_reward,\n",
        "        \"n_eval_episodes\": model[\"n_eval_episodes\"],\n",
        "        \"eval_datetime\": eval_form_datetime,\n",
        "  }\n",
        "  # Write a JSON file\n",
        "  with open(Path(repo_local_path) / \"results.json\", \"w\") as outfile:\n",
        "      json.dump(evaluate_data, outfile)\n",
        "\n",
        "  # Step 3: Create the model card\n",
        "  # Env id\n",
        "  env_name = model[\"env_id\"]\n",
        "  if env.spec.kwargs.get(\"map_name\"):\n",
        "    env_name += \"-\" + env.spec.kwargs.get(\"map_name\")\n",
        "\n",
        "  if env.spec.kwargs.get(\"is_slippery\", \"\") == False:\n",
        "    env_name += \"-\" + \"no_slippery\"\n",
        "\n",
        "  metadata = {}\n",
        "  metadata[\"tags\"] = [\n",
        "        env_name,\n",
        "        \"q-learning\",\n",
        "        \"reinforcement-learning\",\n",
        "        \"custom-implementation\"\n",
        "    ]\n",
        "\n",
        "  # Add metrics\n",
        "  eval = metadata_eval_result(\n",
        "      model_pretty_name=repo_name,\n",
        "      task_pretty_name=\"reinforcement-learning\",\n",
        "      task_id=\"reinforcement-learning\",\n",
        "      metrics_pretty_name=\"mean_reward\",\n",
        "      metrics_id=\"mean_reward\",\n",
        "      metrics_value=f\"{mean_reward:.2f} +/- {std_reward:.2f}\",\n",
        "      dataset_pretty_name=env_name,\n",
        "      dataset_id=env_name,\n",
        "    )\n",
        "\n",
        "  # Merges both dictionaries\n",
        "  metadata = {**metadata, **eval}\n",
        "\n",
        "  model_card = f\"\"\"\n",
        "  # **Q-Learning** Agent playing **{env_id}**\n",
        "  This is a trained model of a **Q-Learning** agent playing **{env_id}** .\n",
        "  \"\"\"\n",
        "\n",
        "  model_card += \"\"\"\n",
        "  ## Usage\n",
        "  ```python\n",
        "  \"\"\"\n",
        "\n",
        "  model_card += f\"\"\"model = load_from_hub(repo_id=\"{repo_id}\", filename=\"q-learning.pkl\")\n",
        "\n",
        "  # Don't forget to check if you need to add additional attributes (is_slippery=False etc)\n",
        "  env = gym.make(model[\"env_id\"])\n",
        "\n",
        "  evaluate_agent(env, model[\"max_steps\"], model[\"n_eval_episodes\"], model[\"qtable\"], model[\"eval_seed\"])\n",
        "  \"\"\"\n",
        "\n",
        "  model_card +=\"\"\"\n",
        "  ```\n",
        "  \"\"\"\n",
        "\n",
        "  readme_path = repo_local_path / \"README.md\"\n",
        "  readme = \"\"\n",
        "  if readme_path.exists():\n",
        "      with readme_path.open(\"r\", encoding=\"utf8\") as f:\n",
        "        readme = f.read()\n",
        "  else:\n",
        "    readme = model_card\n",
        "\n",
        "  with readme_path.open(\"w\", encoding=\"utf-8\") as f:\n",
        "    f.write(readme)\n",
        "\n",
        "  # Save our metrics to Readme metadata\n",
        "  metadata_save(readme_path, metadata)\n",
        "\n",
        "  # Step 4: Record a video\n",
        "  video_path =  repo_local_path / \"replay.mp4\"\n",
        "  record_video(env, model[\"qtable\"], video_path, video_fps)\n",
        "  \n",
        "  # Push everything to hub\n",
        "  print(f\"Pushing repo {repo_name} to the Hugging Face Hub\")\n",
        "  repo.push_to_hub(commit_message=commit_message)\n",
        "\n",
        "  print(f\"Your model is pushed to the hub. You can view your model here: {repo_url}\")"
      ],
      "metadata": {
        "id": "792RdVaUMmJz"
      },
      "execution_count": 26,
      "outputs": []
    },
    {
      "cell_type": "code",
      "source": [
        "from huggingface_hub import notebook_login\n",
        "notebook_login"
      ],
      "metadata": {
        "colab": {
          "base_uri": "https://localhost:8080/"
        },
        "id": "xPmvkMS3Mg0U",
        "outputId": "a6ad8ea8-5406-4ec5-f6f5-bf1d97255962"
      },
      "execution_count": 27,
      "outputs": [
        {
          "output_type": "execute_result",
          "data": {
            "text/plain": [
              "<function huggingface_hub.commands.user.notebook_login>"
            ]
          },
          "metadata": {},
          "execution_count": 27
        }
      ]
    },
    {
      "cell_type": "code",
      "source": [
        "model = {\n",
        "    \"env_id\": env_id,\n",
        "    \"max_steps\": max_steps,\n",
        "    \"n_training_episodes\": n_training_episodes,\n",
        "    \"n_eval_episodes\": n_eval_episodes,\n",
        "    \"eval_seed\": eval_seed,\n",
        "\n",
        "    \"learning_rate\": learning_rate,\n",
        "    \"gamma\": gamma,\n",
        "\n",
        "    \"epsilon\": epsilon,\n",
        "    \"max_epsilon\": max_epsilon,\n",
        "    \"min_epsilon\": min_epsilon,\n",
        "    \"decay_rate\": decay_rate,\n",
        "\n",
        "    \"qtable\": Qtable_frozenlake\n",
        "}"
      ],
      "metadata": {
        "id": "yLVsE54qMgko"
      },
      "execution_count": 28,
      "outputs": []
    },
    {
      "cell_type": "code",
      "source": [
        "model"
      ],
      "metadata": {
        "colab": {
          "base_uri": "https://localhost:8080/"
        },
        "id": "AtlJhCH0Sb-a",
        "outputId": "db5342ff-ea00-413b-94e8-40b816600e90"
      },
      "execution_count": 29,
      "outputs": [
        {
          "output_type": "execute_result",
          "data": {
            "text/plain": [
              "{'decay_rate': 0.0005,\n",
              " 'env_id': 'Frozenlake-v1',\n",
              " 'epsilon': 1.0,\n",
              " 'eval_seed': [],\n",
              " 'gamma': 0.95,\n",
              " 'learning_rate': 0.7,\n",
              " 'max_epsilon': 1.0,\n",
              " 'max_steps': 99,\n",
              " 'min_epsilon': 0.05,\n",
              " 'n_eval_episodes': 100,\n",
              " 'n_training_episodes': 10000,\n",
              " 'qtable': array([[0.73509189, 0.77378094, 0.77378094, 0.73509189],\n",
              "        [0.73509189, 0.        , 0.81450625, 0.77378094],\n",
              "        [0.77378094, 0.857375  , 0.77378094, 0.81450625],\n",
              "        [0.81450625, 0.        , 0.77378094, 0.77378094],\n",
              "        [0.77378094, 0.81450625, 0.        , 0.73509189],\n",
              "        [0.        , 0.        , 0.        , 0.        ],\n",
              "        [0.        , 0.9025    , 0.        , 0.81450625],\n",
              "        [0.        , 0.        , 0.        , 0.        ],\n",
              "        [0.81450625, 0.        , 0.857375  , 0.77378094],\n",
              "        [0.81450625, 0.9025    , 0.9025    , 0.        ],\n",
              "        [0.857375  , 0.95      , 0.        , 0.857375  ],\n",
              "        [0.        , 0.        , 0.        , 0.        ],\n",
              "        [0.        , 0.        , 0.        , 0.        ],\n",
              "        [0.        , 0.9025    , 0.95      , 0.857375  ],\n",
              "        [0.9025    , 0.95      , 1.        , 0.9025    ],\n",
              "        [0.        , 0.        , 0.        , 0.        ]])}"
            ]
          },
          "metadata": {},
          "execution_count": 29
        }
      ]
    },
    {
      "cell_type": "code",
      "source": [
        "username = \"Abeee\" # FILL THIS\n",
        "repo_name = \"q-FrozenLake-v1-4x4-noSlippery\"\n",
        "push_to_hub(\n",
        "    repo_id=f\"{username}/{repo_name}\",\n",
        "    model=model,\n",
        "    env=env)"
      ],
      "metadata": {
        "colab": {
          "base_uri": "https://localhost:8080/",
          "height": 345
        },
        "id": "FNb9TvNmSbtX",
        "outputId": "5f0d3db5-9163-49f4-c04d-23534d2fb704"
      },
      "execution_count": 33,
      "outputs": [
        {
          "output_type": "error",
          "ename": "OSError",
          "evalue": "ignored",
          "traceback": [
            "\u001b[0;31m---------------------------------------------------------------------------\u001b[0m",
            "\u001b[0;31mOSError\u001b[0m                                   Traceback (most recent call last)",
            "\u001b[0;32m<ipython-input-33-f750255779e1>\u001b[0m in \u001b[0;36m<module>\u001b[0;34m()\u001b[0m\n\u001b[1;32m      4\u001b[0m     \u001b[0mrepo_id\u001b[0m\u001b[0;34m=\u001b[0m\u001b[0;34mf\"{username}/{repo_name}\"\u001b[0m\u001b[0;34m,\u001b[0m\u001b[0;34m\u001b[0m\u001b[0;34m\u001b[0m\u001b[0m\n\u001b[1;32m      5\u001b[0m     \u001b[0mmodel\u001b[0m\u001b[0;34m=\u001b[0m\u001b[0mmodel\u001b[0m\u001b[0;34m,\u001b[0m\u001b[0;34m\u001b[0m\u001b[0;34m\u001b[0m\u001b[0m\n\u001b[0;32m----> 6\u001b[0;31m     env=env)\n\u001b[0m",
            "\u001b[0;32m<ipython-input-26-a51f13df2c62>\u001b[0m in \u001b[0;36mpush_to_hub\u001b[0;34m(repo_id, model, env, video_fps, local_repo_path, commit_message, token)\u001b[0m\n\u001b[1;32m     19\u001b[0m         \u001b[0mtoken\u001b[0m\u001b[0;34m=\u001b[0m\u001b[0mtoken\u001b[0m\u001b[0;34m,\u001b[0m\u001b[0;34m\u001b[0m\u001b[0;34m\u001b[0m\u001b[0m\n\u001b[1;32m     20\u001b[0m         \u001b[0mprivate\u001b[0m\u001b[0;34m=\u001b[0m\u001b[0;32mFalse\u001b[0m\u001b[0;34m,\u001b[0m\u001b[0;34m\u001b[0m\u001b[0;34m\u001b[0m\u001b[0m\n\u001b[0;32m---> 21\u001b[0;31m         exist_ok=True,)\n\u001b[0m\u001b[1;32m     22\u001b[0m \u001b[0;34m\u001b[0m\u001b[0m\n\u001b[1;32m     23\u001b[0m   \u001b[0;31m# Git pull\u001b[0m\u001b[0;34m\u001b[0m\u001b[0;34m\u001b[0m\u001b[0;34m\u001b[0m\u001b[0m\n",
            "\u001b[0;32m/usr/local/lib/python3.7/dist-packages/huggingface_hub/utils/_deprecation.py\u001b[0m in \u001b[0;36minner_f\u001b[0;34m(*args, **kwargs)\u001b[0m\n\u001b[1;32m     30\u001b[0m             \u001b[0mextra_args\u001b[0m \u001b[0;34m=\u001b[0m \u001b[0mlen\u001b[0m\u001b[0;34m(\u001b[0m\u001b[0margs\u001b[0m\u001b[0;34m)\u001b[0m \u001b[0;34m-\u001b[0m \u001b[0mlen\u001b[0m\u001b[0;34m(\u001b[0m\u001b[0mall_args\u001b[0m\u001b[0;34m)\u001b[0m\u001b[0;34m\u001b[0m\u001b[0;34m\u001b[0m\u001b[0m\n\u001b[1;32m     31\u001b[0m             \u001b[0;32mif\u001b[0m \u001b[0mextra_args\u001b[0m \u001b[0;34m<=\u001b[0m \u001b[0;36m0\u001b[0m\u001b[0;34m:\u001b[0m\u001b[0;34m\u001b[0m\u001b[0;34m\u001b[0m\u001b[0m\n\u001b[0;32m---> 32\u001b[0;31m                 \u001b[0;32mreturn\u001b[0m \u001b[0mf\u001b[0m\u001b[0;34m(\u001b[0m\u001b[0;34m*\u001b[0m\u001b[0margs\u001b[0m\u001b[0;34m,\u001b[0m \u001b[0;34m**\u001b[0m\u001b[0mkwargs\u001b[0m\u001b[0;34m)\u001b[0m\u001b[0;34m\u001b[0m\u001b[0;34m\u001b[0m\u001b[0m\n\u001b[0m\u001b[1;32m     33\u001b[0m             \u001b[0;31m# extra_args > 0\u001b[0m\u001b[0;34m\u001b[0m\u001b[0;34m\u001b[0m\u001b[0;34m\u001b[0m\u001b[0m\n\u001b[1;32m     34\u001b[0m             args_msg = [\n",
            "\u001b[0;32m/usr/local/lib/python3.7/dist-packages/huggingface_hub/hf_api.py\u001b[0m in \u001b[0;36mcreate_repo\u001b[0;34m(self, repo_id, token, organization, private, repo_type, exist_ok, space_sdk, name)\u001b[0m\n\u001b[1;32m   1416\u001b[0m \u001b[0;34m\u001b[0m\u001b[0m\n\u001b[1;32m   1417\u001b[0m         token, name = self._validate_or_retrieve_token(\n\u001b[0;32m-> 1418\u001b[0;31m             \u001b[0mtoken\u001b[0m\u001b[0;34m,\u001b[0m \u001b[0mname\u001b[0m\u001b[0;34m,\u001b[0m \u001b[0mfunction_name\u001b[0m\u001b[0;34m=\u001b[0m\u001b[0;34m\"create_repo\"\u001b[0m\u001b[0;34m\u001b[0m\u001b[0;34m\u001b[0m\u001b[0m\n\u001b[0m\u001b[1;32m   1419\u001b[0m         )\n\u001b[1;32m   1420\u001b[0m \u001b[0;34m\u001b[0m\u001b[0m\n",
            "\u001b[0;32m/usr/local/lib/python3.7/dist-packages/huggingface_hub/hf_api.py\u001b[0m in \u001b[0;36m_validate_or_retrieve_token\u001b[0;34m(self, token, name, function_name)\u001b[0m\n\u001b[1;32m    665\u001b[0m             \u001b[0;32mif\u001b[0m \u001b[0mtoken\u001b[0m \u001b[0;32mis\u001b[0m \u001b[0;32mNone\u001b[0m\u001b[0;34m:\u001b[0m\u001b[0;34m\u001b[0m\u001b[0;34m\u001b[0m\u001b[0m\n\u001b[1;32m    666\u001b[0m                 raise EnvironmentError(\n\u001b[0;32m--> 667\u001b[0;31m                     \u001b[0;34m\"You need to provide a `token` or be logged in to Hugging \"\u001b[0m\u001b[0;34m\u001b[0m\u001b[0;34m\u001b[0m\u001b[0m\n\u001b[0m\u001b[1;32m    668\u001b[0m                     \u001b[0;34m\"Face with `huggingface-cli login`.\"\u001b[0m\u001b[0;34m\u001b[0m\u001b[0;34m\u001b[0m\u001b[0m\n\u001b[1;32m    669\u001b[0m                 )\n",
            "\u001b[0;31mOSError\u001b[0m: You need to provide a `token` or be logged in to Hugging Face with `huggingface-cli login`."
          ]
        }
      ]
    }
  ]
}