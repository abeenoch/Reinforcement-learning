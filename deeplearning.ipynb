{
  "nbformat": 4,
  "nbformat_minor": 0,
  "metadata": {
    "colab": {
      "name": "deeplearning.ipynb",
      "provenance": [],
      "collapsed_sections": [],
      "authorship_tag": "ABX9TyPQBWEcbSbfkZLY7jF9UzET",
      "include_colab_link": true
    },
    "kernelspec": {
      "name": "python3",
      "display_name": "Python 3"
    },
    "language_info": {
      "name": "python"
    }
  },
  "cells": [
    {
      "cell_type": "markdown",
      "metadata": {
        "id": "view-in-github",
        "colab_type": "text"
      },
      "source": [
        "<a href=\"https://colab.research.google.com/github/abeenoch/abe/blob/hamoyemain/deeplearning.ipynb\" target=\"_parent\"><img src=\"https://colab.research.google.com/assets/colab-badge.svg\" alt=\"Open In Colab\"/></a>"
      ]
    },
    {
      "cell_type": "code",
      "metadata": {
        "id": "m9Fet0dT11B3"
      },
      "source": [
        "#importing libraries\n",
        "import numpy as np\n",
        "import matplotlib.pyplot as plt\n",
        "import tensorflow as tf\n",
        "from tensorflow import keras"
      ],
      "execution_count": 20,
      "outputs": []
    },
    {
      "cell_type": "markdown",
      "metadata": {
        "id": "6IY_onYTx4j-"
      },
      "source": [
        "# New Section"
      ]
    },
    {
      "cell_type": "code",
      "metadata": {
        "id": "3rYIH6BY6bFd"
      },
      "source": [
        "#loading data\n",
        "mnist = keras.datasets.mnist\n",
        "(train_images,train_labels),(test_images,test_labels)=mnist.load_data()"
      ],
      "execution_count": 21,
      "outputs": []
    },
    {
      "cell_type": "code",
      "metadata": {
        "id": "XWvXsxW00387",
        "colab": {
          "base_uri": "https://localhost:8080/"
        },
        "outputId": "ecb48972-d640-4134-8899-cd3d167c1db5"
      },
      "source": [
        "#examining datasets\n",
        "print(\"Training data:{},{}\".format(train_images.shape,train_labels.shape))\n",
        "print(\"Test data:{},{}\".format(test_images.shape,test_labels.shape))"
      ],
      "execution_count": 22,
      "outputs": [
        {
          "output_type": "stream",
          "name": "stdout",
          "text": [
            "Training data:(60000, 28, 28),(60000,)\n",
            "Test data:(10000, 28, 28),(10000,)\n"
          ]
        }
      ]
    },
    {
      "cell_type": "code",
      "metadata": {
        "colab": {
          "base_uri": "https://localhost:8080/"
        },
        "id": "2gAkCIvuBuSC",
        "outputId": "ace48b3b-30c6-4f45-9d42-2839f1d172ce"
      },
      "source": [
        "class_labels = np.unique(train_labels)\n",
        "\n",
        "print(\"There are {} classes in the dataset. They are:{}\".format(len(class_labels),class_labels))"
      ],
      "execution_count": 23,
      "outputs": [
        {
          "output_type": "stream",
          "name": "stdout",
          "text": [
            "There are 10 classes in the dataset. They are:[0 1 2 3 4 5 6 7 8 9]\n"
          ]
        }
      ]
    },
    {
      "cell_type": "code",
      "metadata": {
        "colab": {
          "base_uri": "https://localhost:8080/",
          "height": 212
        },
        "id": "CI95Joy3DRoQ",
        "outputId": "2ec3582d-ad3d-4993-d93b-fdaa0d2446a0"
      },
      "source": [
        "#plot a few images\n",
        "plt.figure(figsize=(8,5))\n",
        "plt.subplot(1,3,1)\n",
        "plt.imshow(train_images[0])\n",
        "plt.title(\"Label:{}\".format(train_labels[0]))"
      ],
      "execution_count": 24,
      "outputs": [
        {
          "output_type": "execute_result",
          "data": {
            "text/plain": [
              "Text(0.5, 1.0, 'Label:5')"
            ]
          },
          "metadata": {},
          "execution_count": 24
        },
        {
          "output_type": "display_data",
          "data": {
            "image/png": "[encoded data removed]",
            "text/plain": [
              "<Figure size 576x360 with 1 Axes>"
            ]
          },
          "metadata": {
            "needs_background": "light"
          }
        }
      ]
    },
    {
      "cell_type": "code",
      "metadata": {
        "colab": {
          "base_uri": "https://localhost:8080/",
          "height": 166
        },
        "id": "TyCpYwHgD_IE",
        "outputId": "355aba6c-a139-424e-99d2-1d60279c193c"
      },
      "source": [
        "plt.subplot(1,3,3)\n",
        "plt.imshow(test_images[12])\n",
        "plt.show"
      ],
      "execution_count": 25,
      "outputs": [
        {
          "output_type": "execute_result",
          "data": {
            "text/plain": [
              "<function matplotlib.pyplot.show>"
            ]
          },
          "metadata": {},
          "execution_count": 25
        },
        {
          "output_type": "display_data",
          "data": {
            "image/png": "[encoded data removed]",
            "text/plain": [
              "<Figure size 432x288 with 1 Axes>"
            ]
          },
          "metadata": {
            "needs_background": "light"
          }
        }
      ]
    },
    {
      "cell_type": "code",
      "metadata": {
        "id": "n3DxkXW2EU0o"
      },
      "source": [
        "#data processing\n",
        "#scale dataset to range btw 0 and 1\n",
        "#normalization is carried out\n",
        "train_images=train_images/255.0\n",
        "test_images=test_images/255.0"
      ],
      "execution_count": 26,
      "outputs": []
    },
    {
      "cell_type": "code",
      "metadata": {
        "colab": {
          "base_uri": "https://localhost:8080/"
        },
        "id": "puRf0QRPEzbS",
        "outputId": "3fbf665d-e06a-4e2d-e65c-508c3ca440b7"
      },
      "source": [
        "#partition data set to create validation dataset\n",
        "#i.e training set is used to fit parameters while validation set is used to finetune the parameters while the trained classifier is evaluated on the test set\n",
        "x_train=train_images[0:50000]\n",
        "x_val=train_images[50000:]\n",
        "y_train=train_labels[0:50000]\n",
        "y_val=train_labels[50000:]\n",
        "print(\"x_train:{}\".format(x_train.shape))\n",
        "print(\"x_val:{}\".format(x_val.shape))\n",
        "print(\"y_train:{}\".format(y_train.shape))\n",
        "print(\"y_val:{}\".format(y_val.shape))"
      ],
      "execution_count": 27,
      "outputs": [
        {
          "output_type": "stream",
          "name": "stdout",
          "text": [
            "x_train:(50000, 28, 28)\n",
            "x_val:(10000, 28, 28)\n",
            "y_train:(50000,)\n",
            "y_val:(10000,)\n"
          ]
        }
      ]
    },
    {
      "cell_type": "code",
      "metadata": {
        "id": "zTlOTceBH5OI"
      },
      "source": [
        "#we one hot encode the categorical column\n",
        "#it will be a row vector and for each image,it will have a dimension of 1 x 10\n",
        "from tensorflow.keras.utils import to_categorical\n",
        "no_labels=10\n",
        "y_train=to_categorical(y_train,no_labels)\n",
        "y_val=to_categorical(y_val,no_labels)\n",
        "y_test=to_categorical(test_labels,no_labels)"
      ],
      "execution_count": 28,
      "outputs": []
    },
    {
      "cell_type": "code",
      "metadata": {
        "id": "Df5Xxm3IJJ0w"
      },
      "source": [
        "#flattening the images from the 2d 28 x 28 pixels to 1d 784 pixels\n",
        "new_dimension=np.prod(train_images.shape[1:])\n",
        "x_train=x_train.reshape(x_train.shape[0],new_dimension)\n",
        "x_val=x_val.reshape(x_val.shape[0],new_dimension)\n",
        "test_images=test_images.reshape(test_images.shape[0],new_dimension)"
      ],
      "execution_count": 29,
      "outputs": []
    },
    {
      "cell_type": "code",
      "metadata": {
        "id": "uqXfCxy9Katc"
      },
      "source": [
        "#define input placeholder X with dimension of 784,placeholder is a variable that we will assign data to at a later date \n",
        "import tensorflow.compat.v1 as tf\n",
        "tf.disable_v2_behavior()\n",
        "X=tf.placeholder(tf.float32,[None,new_dimension])\n",
        "Y=tf.placeholder(tf.float32,[None,no_labels])"
      ],
      "execution_count": 43,
      "outputs": []
    },
    {
      "cell_type": "code",
      "metadata": {
        "id": "YOztHb-OLbKs"
      },
      "source": [
        "#BUILDING MODEL ARCHITECTURE\n",
        "def multilayer_perceptron(x,no_classes,first_layer_neurons=256,second_layer_neurons=128):\n",
        "  #first layer\n",
        "  first_weight=tf.Variable(tf.random_uniform([new_dimension,first_layer_neurons]))\n",
        "  first_bias=tf.Variable(tf.zeros([first_layer_neurons]))\n",
        "  first_layer_output=tf.nn.relu(tf.add(tf.matmul(x,first_weight),first_bias))\n",
        "\n",
        "  #second layer\n",
        "  second_weight=tf.Variable(tf.random_uniform([first_layer_neurons,second_layer_neurons]))\n",
        "  second_bias=tf.Variables(tf.zeros([second_layer_neurons]))\n",
        "  second_layer_output=tf.nn.relu(tf.add(tf.matmul(first_layer_output,second_weight),second_bias))\n",
        "\n",
        "  #output layer\n",
        "  final_weight=tf.Variable(tf.random_uniform([second_layer_neurons,no_classes]))\n",
        "  final_bias=tf.Variable(tf.zeros([no_classes]))\n",
        "  logits=tf.add(tf.matmul(second_layer_output,final_weight),final_bias)\n",
        "\n",
        "\n",
        "  return logits"
      ],
      "execution_count": 38,
      "outputs": []
    },
    {
      "cell_type": "code",
      "metadata": {
        "colab": {
          "base_uri": "https://localhost:8080/",
          "height": 356
        },
        "id": "kTISTtWYPvn5",
        "outputId": "11c7ee6b-d43d-4e5d-90d3-79162fe31581"
      },
      "source": [
        "\n",
        "logits=multilayer_perceptron(X,no_labels)\n",
        "learning_rate=0.01\n",
        "loss_op=tf.reduce_mean(tf.nn.softmax_cross_enthropy_with_logits(logits=logits,labels=Y))\n",
        "optimiser=tf.train.AdamOptimizer(learning_rate=learning_rate)\n",
        "train_op=optimiser.minimize(loss_op)"
      ],
      "execution_count": 44,
      "outputs": [
        {
          "output_type": "error",
          "ename": "AttributeError",
          "evalue": "ignored",
          "traceback": [
            "\u001b[0;31m---------------------------------------------------------------------------\u001b[0m",
            "\u001b[0;31mAttributeError\u001b[0m                            Traceback (most recent call last)",
            "\u001b[0;32m<ipython-input-44-8b4e7695aba8>\u001b[0m in \u001b[0;36m<module>\u001b[0;34m()\u001b[0m\n\u001b[1;32m      1\u001b[0m \u001b[0;34m\u001b[0m\u001b[0m\n\u001b[0;32m----> 2\u001b[0;31m \u001b[0mlogits\u001b[0m\u001b[0;34m=\u001b[0m\u001b[0mmultilayer_perceptron\u001b[0m\u001b[0;34m(\u001b[0m\u001b[0mX\u001b[0m\u001b[0;34m,\u001b[0m\u001b[0mno_labels\u001b[0m\u001b[0;34m)\u001b[0m\u001b[0;34m\u001b[0m\u001b[0;34m\u001b[0m\u001b[0m\n\u001b[0m\u001b[1;32m      3\u001b[0m \u001b[0mlearning_rate\u001b[0m\u001b[0;34m=\u001b[0m\u001b[0;36m0.01\u001b[0m\u001b[0;34m\u001b[0m\u001b[0;34m\u001b[0m\u001b[0m\n\u001b[1;32m      4\u001b[0m \u001b[0mloss_op\u001b[0m\u001b[0;34m=\u001b[0m\u001b[0mtf\u001b[0m\u001b[0;34m.\u001b[0m\u001b[0mreduce_mean\u001b[0m\u001b[0;34m(\u001b[0m\u001b[0mtf\u001b[0m\u001b[0;34m.\u001b[0m\u001b[0mnn\u001b[0m\u001b[0;34m.\u001b[0m\u001b[0msoftmax_cross_enthropy_with_logits\u001b[0m\u001b[0;34m(\u001b[0m\u001b[0mlogits\u001b[0m\u001b[0;34m=\u001b[0m\u001b[0mlogits\u001b[0m\u001b[0;34m,\u001b[0m\u001b[0mlabels\u001b[0m\u001b[0;34m=\u001b[0m\u001b[0mY\u001b[0m\u001b[0;34m)\u001b[0m\u001b[0;34m)\u001b[0m\u001b[0;34m\u001b[0m\u001b[0;34m\u001b[0m\u001b[0m\n\u001b[1;32m      5\u001b[0m \u001b[0moptimiser\u001b[0m\u001b[0;34m=\u001b[0m\u001b[0mtf\u001b[0m\u001b[0;34m.\u001b[0m\u001b[0mtrain\u001b[0m\u001b[0;34m.\u001b[0m\u001b[0mAdamOptimizer\u001b[0m\u001b[0;34m(\u001b[0m\u001b[0mlearning_rate\u001b[0m\u001b[0;34m=\u001b[0m\u001b[0mlearning_rate\u001b[0m\u001b[0;34m)\u001b[0m\u001b[0;34m\u001b[0m\u001b[0;34m\u001b[0m\u001b[0m\n",
            "\u001b[0;32m<ipython-input-38-984762adbaeb>\u001b[0m in \u001b[0;36mmultilayer_perceptron\u001b[0;34m(x, no_classes, first_layer_neurons, second_layer_neurons)\u001b[0m\n\u001b[1;32m      8\u001b[0m   \u001b[0;31m#second layer\u001b[0m\u001b[0;34m\u001b[0m\u001b[0;34m\u001b[0m\u001b[0;34m\u001b[0m\u001b[0m\n\u001b[1;32m      9\u001b[0m   \u001b[0msecond_weight\u001b[0m\u001b[0;34m=\u001b[0m\u001b[0mtf\u001b[0m\u001b[0;34m.\u001b[0m\u001b[0mVariable\u001b[0m\u001b[0;34m(\u001b[0m\u001b[0mtf\u001b[0m\u001b[0;34m.\u001b[0m\u001b[0mrandom_uniform\u001b[0m\u001b[0;34m(\u001b[0m\u001b[0;34m[\u001b[0m\u001b[0mfirst_layer_neurons\u001b[0m\u001b[0;34m,\u001b[0m\u001b[0msecond_layer_neurons\u001b[0m\u001b[0;34m]\u001b[0m\u001b[0;34m)\u001b[0m\u001b[0;34m)\u001b[0m\u001b[0;34m\u001b[0m\u001b[0;34m\u001b[0m\u001b[0m\n\u001b[0;32m---> 10\u001b[0;31m   \u001b[0msecond_bias\u001b[0m\u001b[0;34m=\u001b[0m\u001b[0mtf\u001b[0m\u001b[0;34m.\u001b[0m\u001b[0mVariables\u001b[0m\u001b[0;34m(\u001b[0m\u001b[0mtf\u001b[0m\u001b[0;34m.\u001b[0m\u001b[0mzeros\u001b[0m\u001b[0;34m(\u001b[0m\u001b[0;34m[\u001b[0m\u001b[0msecond_layer_neurons\u001b[0m\u001b[0;34m]\u001b[0m\u001b[0;34m)\u001b[0m\u001b[0;34m)\u001b[0m\u001b[0;34m\u001b[0m\u001b[0;34m\u001b[0m\u001b[0m\n\u001b[0m\u001b[1;32m     11\u001b[0m   \u001b[0msecond_layer_output\u001b[0m\u001b[0;34m=\u001b[0m\u001b[0mtf\u001b[0m\u001b[0;34m.\u001b[0m\u001b[0mnn\u001b[0m\u001b[0;34m.\u001b[0m\u001b[0mrelu\u001b[0m\u001b[0;34m(\u001b[0m\u001b[0mtf\u001b[0m\u001b[0;34m.\u001b[0m\u001b[0madd\u001b[0m\u001b[0;34m(\u001b[0m\u001b[0mtf\u001b[0m\u001b[0;34m.\u001b[0m\u001b[0mmatmul\u001b[0m\u001b[0;34m(\u001b[0m\u001b[0mfirst_layer_output\u001b[0m\u001b[0;34m,\u001b[0m\u001b[0msecond_weight\u001b[0m\u001b[0;34m)\u001b[0m\u001b[0;34m,\u001b[0m\u001b[0msecond_bias\u001b[0m\u001b[0;34m)\u001b[0m\u001b[0;34m)\u001b[0m\u001b[0;34m\u001b[0m\u001b[0;34m\u001b[0m\u001b[0m\n\u001b[1;32m     12\u001b[0m \u001b[0;34m\u001b[0m\u001b[0m\n",
            "\u001b[0;31mAttributeError\u001b[0m: module 'tensorflow.compat.v1' has no attribute 'Variables'"
          ]
        }
      ]
    },
    {
      "cell_type": "code",
      "metadata": {
        "id": "5TY1rM4tQ1yc"
      },
      "source": [
        "init=tf.global_variables_initializer()\n",
        "\n",
        "epochs = 20 \n",
        "batch_size = 1000"
      ],
      "execution_count": null,
      "outputs": []
    }
  ]
}